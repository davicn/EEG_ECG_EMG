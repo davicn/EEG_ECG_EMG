{
 "cells": [
  {
   "cell_type": "markdown",
   "metadata": {},
   "source": [
    "# Definindo montages mais frequentes"
   ]
  },
  {
   "cell_type": "code",
   "execution_count": 11,
   "metadata": {},
   "outputs": [],
   "source": [
    "import numpy as np \n",
    "import pandas as pd \n",
    "import json\n",
    "\n",
    "path1 = '/home/pib3/Projetos/tuh_eeg_epilepsy/codes/docs/epilepsy/'\n",
    "path2 = '/home/pib3/Projetos/tuh_eeg_epilepsy/codes/docs/no_epilepsy/'"
   ]
  },
  {
   "cell_type": "code",
   "execution_count": 12,
   "metadata": {},
   "outputs": [],
   "source": [
    "file1w = '01_tcp_ar.json'\n",
    "file2w = '02_tcp_le.json'\n",
    "file3w = '03_tcp_ar_a.json'\n",
    "\n",
    "file1n = '01_tcp_ar.json'\n",
    "file2n = '02_tcp_le.json'\n",
    "file3n = '03_tcp_ar_a.json'\n",
    "\n",
    "with open(path1+file1w) as json_file:\n",
    "    data1w = json.load(json_file)\n",
    "    \n",
    "with open(path1+file2w) as json_file:\n",
    "    data2w = json.load(json_file)\n",
    "    \n",
    "with open(path1+file3w) as json_file:\n",
    "    data3w = json.load(json_file)\n",
    "    \n",
    "with open(path2+file1n) as json_file:\n",
    "    data1n = json.load(json_file)\n",
    "    \n",
    "with open(path2+file2n) as json_file:\n",
    "    data2n = json.load(json_file)\n",
    "    \n",
    "with open(path2+file3n) as json_file:\n",
    "    data3n = json.load(json_file)\n",
    "    \n"
   ]
  },
  {
   "cell_type": "code",
   "execution_count": 13,
   "metadata": {},
   "outputs": [],
   "source": [
    "montages1w = data1w['montage']\n",
    "montages2w = data2w['montage']\n",
    "montages3w = data3w['montage']\n",
    "\n",
    "montages1n = data1n['montage']\n",
    "montages2n = data2n['montage']\n",
    "montages3n = data3n['montage']\n",
    "#montages.extend(data2['montage'])\n",
    "#montages.extend(data3['montage'])\n",
    "#np.unique(montages,return_counts=True)\n",
    "#len(montages)"
   ]
  },
  {
   "cell_type": "code",
   "execution_count": 16,
   "metadata": {},
   "outputs": [
    {
     "name": "stdout",
     "output_type": "stream",
     "text": [
      "\n",
      "Epilepsy\n",
      "[  1 103 143   6   8 152 104  59  20   3  15 349   3  31]\n",
      "[ 9 80  6  4]\n",
      "[ 56   1 148]\n",
      "\n",
      "No Epilepsy\n",
      "[  2  64 153  20   2   2   1   1   1]\n",
      "[ 1 36]\n",
      "[5 5 5 5 5 5 5 5 5 5 5 5 5 5 5 5 5 5 5 5 5 5 5 5 5 5 5 5 5 5 5 5]\n"
     ]
    }
   ],
   "source": [
    "print(\"\\nEpilepsy\")\n",
    "print(np.unique(montages1w,return_counts=True)[1])\n",
    "print(np.unique(montages2w,return_counts=True)[1])\n",
    "print(np.unique(montages3w,return_counts=True)[1])\n",
    "\n",
    "print(\"\\nNo Epilepsy\")\n",
    "print(np.unique(montages1n,return_counts=True)[1])\n",
    "print(np.unique(montages2n,return_counts=True)[1])\n",
    "print(np.unique(montages3n,return_counts=True)[1])"
   ]
  },
  {
   "cell_type": "code",
   "execution_count": 17,
   "metadata": {},
   "outputs": [],
   "source": [
    "# MONTAGENS A SEREM USADAS\n",
    "mont1w = np.unique(montages1w,return_counts=True)[0][-3]\n",
    "mont2w = np.unique(montages2w,return_counts=True)[0][1]\n",
    "mont3w = np.unique(montages3w,return_counts=True)[0][-1]\n",
    "#print(len(mont1),len(mont2),len(mont3))\n",
    "mont1n = np.unique(montages1n,return_counts=True)[0][-3]\n",
    "#mont2w = np.unique(montages2w,return_counts=True)[0]\n",
    "#mont3w = np.unique(montages3w,return_counts=True)[0]"
   ]
  },
  {
   "cell_type": "code",
   "execution_count": 200,
   "metadata": {},
   "outputs": [],
   "source": [
    "# mont1\n",
    "# del mont1[-5:]\n",
    "# mont1 = [mont1[i][4:]for i in range(len(mont1))]\n",
    "# mont1 = [mont1[i].replace('-REF','') for i in range(len(mont1))]\n",
    "# mont1"
   ]
  },
  {
   "cell_type": "code",
   "execution_count": 201,
   "metadata": {},
   "outputs": [],
   "source": [
    "# mont2\n",
    "# mont2 = mont2[:-16]\n",
    "# mont2 = [mont2[i][4:].replace('-LE','') for i in range(len(mont2))]\n",
    "# mont2"
   ]
  },
  {
   "cell_type": "code",
   "execution_count": 202,
   "metadata": {},
   "outputs": [],
   "source": [
    "#mont3\n",
    "# mont3 = mont3[:-8]\n",
    "# mont3 = [mont3[i][4:]for i in range(len(mont3))]\n",
    "# mont3 = [mont3[i].replace('-REF','') for i in range(len(mont3))]\n",
    "# mont3"
   ]
  },
  {
   "cell_type": "code",
   "execution_count": 21,
   "metadata": {},
   "outputs": [],
   "source": [
    "freq1w = data1w['frequence']\n",
    "freq2w = data2w['frequence']\n",
    "freq3w = data3w['frequence']\n",
    "\n",
    "freq1n = data1n['frequence']\n",
    "freq2n = data2n['frequence']\n",
    "freq3n = data3n['frequence']"
   ]
  },
  {
   "cell_type": "code",
   "execution_count": 23,
   "metadata": {},
   "outputs": [
    {
     "name": "stdout",
     "output_type": "stream",
     "text": [
      "\n",
      "Epilepsy\n",
      "(array([250., 256., 512.]), array([253, 617, 127]))\n",
      "(array([250.]), array([99]))\n",
      "(array([256., 400.]), array([148,  57]))\n",
      "\n",
      "No Epilepsy\n",
      "(array([250., 256.]), array([239,   7]))\n",
      "(array([250.]), array([37]))\n",
      "(array([400.]), array([5]))\n"
     ]
    }
   ],
   "source": [
    "#FREQUENCIA AMOSTRAL DE EEG\n",
    "print(\"\\nEpilepsy\")\n",
    "print(np.unique(freq1w,return_counts=True))\n",
    "print(np.unique(freq2w,return_counts=True))\n",
    "print(np.unique(freq3w,return_counts=True))\n",
    "# https://www.geeksforgeeks.org/python-pandas-dataframe-where/\n",
    "print(\"\\nNo Epilepsy\")\n",
    "print(np.unique(freq1n,return_counts=True))\n",
    "print(np.unique(freq2n,return_counts=True))\n",
    "print(np.unique(freq3n,return_counts=True))"
   ]
  },
  {
   "cell_type": "code",
   "execution_count": 10,
   "metadata": {},
   "outputs": [
    {
     "data": {
      "text/plain": [
       "list"
      ]
     },
     "execution_count": 10,
     "metadata": {},
     "output_type": "execute_result"
    }
   ],
   "source": [
    "import numpy as np\n",
    "\n",
    "import pandas as pd\n",
    "\n",
    "\n",
    "df = pd.DataFrame(np.arange(1,10).reshape(3,3))\n",
    "\n",
    "arr = sparse.coo_matrix(([1,1,1], ([0,1,2], [1,2,0])), shape=(3,3))\n",
    "\n",
    "df['newcol'] = arr.toarray().tolist()\n",
    "#arr.toarray().tolist()\n",
    "#print(df)\n",
    "type(data1['montage'])"
   ]
  }
 ],
 "metadata": {
  "kernelspec": {
   "display_name": "Python 3",
   "language": "python",
   "name": "python3"
  },
  "language_info": {
   "codemirror_mode": {
    "name": "ipython",
    "version": 3
   },
   "file_extension": ".py",
   "mimetype": "text/x-python",
   "name": "python",
   "nbconvert_exporter": "python",
   "pygments_lexer": "ipython3",
   "version": "3.7.3"
  },
  "toc": {
   "base_numbering": 1,
   "nav_menu": {},
   "number_sections": true,
   "sideBar": true,
   "skip_h1_title": false,
   "title_cell": "Table of Contents",
   "title_sidebar": "Contents",
   "toc_cell": false,
   "toc_position": {},
   "toc_section_display": true,
   "toc_window_display": false
  },
  "varInspector": {
   "cols": {
    "lenName": 16,
    "lenType": 16,
    "lenVar": 40
   },
   "kernels_config": {
    "python": {
     "delete_cmd_postfix": "",
     "delete_cmd_prefix": "del ",
     "library": "var_list.py",
     "varRefreshCmd": "print(var_dic_list())"
    },
    "r": {
     "delete_cmd_postfix": ") ",
     "delete_cmd_prefix": "rm(",
     "library": "var_list.r",
     "varRefreshCmd": "cat(var_dic_list()) "
    }
   },
   "types_to_exclude": [
    "module",
    "function",
    "builtin_function_or_method",
    "instance",
    "_Feature"
   ],
   "window_display": false
  }
 },
 "nbformat": 4,
 "nbformat_minor": 2
}
