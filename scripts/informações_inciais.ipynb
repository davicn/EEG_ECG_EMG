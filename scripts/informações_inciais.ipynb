{
 "cells": [
  {
   "cell_type": "code",
   "execution_count": 1,
   "metadata": {},
   "outputs": [],
   "source": [
    "import numpy as np\n",
    "import pandas as pd \n",
    "import mne\n"
   ]
  },
  {
   "cell_type": "markdown",
   "metadata": {},
   "source": [
    "# Epilepsy"
   ]
  },
  {
   "cell_type": "markdown",
   "metadata": {},
   "source": [
    "## 01_tcp_ar"
   ]
  },
  {
   "cell_type": "code",
   "execution_count": 7,
   "metadata": {},
   "outputs": [
    {
     "data": {
      "text/plain": [
       "'./01_tcp_ar/090/00009074/s002_2012_12_06/00009074_s002_t000.edf'"
      ]
     },
     "execution_count": 7,
     "metadata": {},
     "output_type": "execute_result"
    }
   ],
   "source": [
    "path = '/home/pib3/Projetos/tuh_eeg_epilepsy/no_epilepsy/'\n",
    "file = '/home/pib3/Projetos/tuh_eeg_epilepsy/codes/docs/no_epilepsy.csv'\n",
    "data = pd.read_csv(file, header=None)\n",
    "aux = []\n",
    "nome = './01_tcp_ar'\n",
    "for i in range(len(data)):\n",
    "    if data.iloc[i,0][:11] == nome:\n",
    "        aux.append(i)\n",
    "        \n",
    "data.iloc[aux[0],0]"
   ]
  },
  {
   "cell_type": "code",
   "execution_count": 8,
   "metadata": {},
   "outputs": [
    {
     "name": "stdout",
     "output_type": "stream",
     "text": [
      "Converting \"time\" to \"<class 'numpy.int64'>\"...\n",
      "Converting \"time\" to \"<class 'numpy.int64'>\"...\n",
      "Converting \"time\" to \"<class 'numpy.int64'>\"...\n",
      "Converting \"time\" to \"<class 'numpy.int64'>\"...\n",
      "Converting \"time\" to \"<class 'numpy.int64'>\"...\n",
      "Converting \"time\" to \"<class 'numpy.int64'>\"...\n",
      "Converting \"time\" to \"<class 'numpy.int64'>\"...\n",
      "Converting \"time\" to \"<class 'numpy.int64'>\"...\n",
      "Converting \"time\" to \"<class 'numpy.int64'>\"...\n",
      "Converting \"time\" to \"<class 'numpy.int64'>\"...\n",
      "Converting \"time\" to \"<class 'numpy.int64'>\"...\n",
      "Converting \"time\" to \"<class 'numpy.int64'>\"...\n",
      "Converting \"time\" to \"<class 'numpy.int64'>\"...\n",
      "Converting \"time\" to \"<class 'numpy.int64'>\"...\n",
      "Converting \"time\" to \"<class 'numpy.int64'>\"...\n",
      "Converting \"time\" to \"<class 'numpy.int64'>\"...\n",
      "Converting \"time\" to \"<class 'numpy.int64'>\"...\n",
      "Converting \"time\" to \"<class 'numpy.int64'>\"...\n",
      "Converting \"time\" to \"<class 'numpy.int64'>\"...\n",
      "Converting \"time\" to \"<class 'numpy.int64'>\"...\n",
      "Converting \"time\" to \"<class 'numpy.int64'>\"...\n",
      "Converting \"time\" to \"<class 'numpy.int64'>\"...\n",
      "Converting \"time\" to \"<class 'numpy.int64'>\"...\n",
      "Converting \"time\" to \"<class 'numpy.int64'>\"...\n",
      "Converting \"time\" to \"<class 'numpy.int64'>\"...\n",
      "Converting \"time\" to \"<class 'numpy.int64'>\"...\n",
      "Converting \"time\" to \"<class 'numpy.int64'>\"...\n",
      "Converting \"time\" to \"<class 'numpy.int64'>\"...\n",
      "Converting \"time\" to \"<class 'numpy.int64'>\"...\n",
      "Converting \"time\" to \"<class 'numpy.int64'>\"...\n",
      "Converting \"time\" to \"<class 'numpy.int64'>\"...\n",
      "Converting \"time\" to \"<class 'numpy.int64'>\"...\n",
      "Converting \"time\" to \"<class 'numpy.int64'>\"...\n",
      "Converting \"time\" to \"<class 'numpy.int64'>\"...\n",
      "Converting \"time\" to \"<class 'numpy.int64'>\"...\n",
      "Converting \"time\" to \"<class 'numpy.int64'>\"...\n",
      "Converting \"time\" to \"<class 'numpy.int64'>\"...\n",
      "Converting \"time\" to \"<class 'numpy.int64'>\"...\n",
      "Converting \"time\" to \"<class 'numpy.int64'>\"...\n",
      "Converting \"time\" to \"<class 'numpy.int64'>\"...\n",
      "Converting \"time\" to \"<class 'numpy.int64'>\"...\n",
      "Converting \"time\" to \"<class 'numpy.int64'>\"...\n",
      "Converting \"time\" to \"<class 'numpy.int64'>\"...\n",
      "Converting \"time\" to \"<class 'numpy.int64'>\"...\n",
      "Converting \"time\" to \"<class 'numpy.int64'>\"...\n",
      "Converting \"time\" to \"<class 'numpy.int64'>\"...\n",
      "Converting \"time\" to \"<class 'numpy.int64'>\"...\n",
      "Converting \"time\" to \"<class 'numpy.int64'>\"...\n",
      "Converting \"time\" to \"<class 'numpy.int64'>\"...\n",
      "Converting \"time\" to \"<class 'numpy.int64'>\"...\n",
      "Converting \"time\" to \"<class 'numpy.int64'>\"...\n",
      "Converting \"time\" to \"<class 'numpy.int64'>\"...\n",
      "Converting \"time\" to \"<class 'numpy.int64'>\"...\n",
      "Converting \"time\" to \"<class 'numpy.int64'>\"...\n",
      "Converting \"time\" to \"<class 'numpy.int64'>\"...\n",
      "Converting \"time\" to \"<class 'numpy.int64'>\"...\n",
      "Converting \"time\" to \"<class 'numpy.int64'>\"...\n",
      "Converting \"time\" to \"<class 'numpy.int64'>\"...\n",
      "Converting \"time\" to \"<class 'numpy.int64'>\"...\n",
      "Converting \"time\" to \"<class 'numpy.int64'>\"...\n",
      "Converting \"time\" to \"<class 'numpy.int64'>\"...\n",
      "Converting \"time\" to \"<class 'numpy.int64'>\"...\n",
      "Converting \"time\" to \"<class 'numpy.int64'>\"...\n",
      "Converting \"time\" to \"<class 'numpy.int64'>\"...\n",
      "Converting \"time\" to \"<class 'numpy.int64'>\"...\n",
      "Converting \"time\" to \"<class 'numpy.int64'>\"...\n",
      "Converting \"time\" to \"<class 'numpy.int64'>\"...\n",
      "Converting \"time\" to \"<class 'numpy.int64'>\"...\n",
      "Converting \"time\" to \"<class 'numpy.int64'>\"...\n",
      "Converting \"time\" to \"<class 'numpy.int64'>\"...\n",
      "Converting \"time\" to \"<class 'numpy.int64'>\"...\n",
      "Converting \"time\" to \"<class 'numpy.int64'>\"...\n",
      "Converting \"time\" to \"<class 'numpy.int64'>\"...\n",
      "Converting \"time\" to \"<class 'numpy.int64'>\"...\n",
      "Converting \"time\" to \"<class 'numpy.int64'>\"...\n",
      "Converting \"time\" to \"<class 'numpy.int64'>\"...\n",
      "Converting \"time\" to \"<class 'numpy.int64'>\"...\n",
      "Converting \"time\" to \"<class 'numpy.int64'>\"...\n",
      "Converting \"time\" to \"<class 'numpy.int64'>\"...\n",
      "Converting \"time\" to \"<class 'numpy.int64'>\"...\n",
      "Converting \"time\" to \"<class 'numpy.int64'>\"...\n",
      "Converting \"time\" to \"<class 'numpy.int64'>\"...\n",
      "Converting \"time\" to \"<class 'numpy.int64'>\"...\n",
      "Converting \"time\" to \"<class 'numpy.int64'>\"...\n",
      "Converting \"time\" to \"<class 'numpy.int64'>\"...\n",
      "Converting \"time\" to \"<class 'numpy.int64'>\"...\n",
      "Converting \"time\" to \"<class 'numpy.int64'>\"...\n",
      "Converting \"time\" to \"<class 'numpy.int64'>\"...\n",
      "Converting \"time\" to \"<class 'numpy.int64'>\"...\n",
      "Converting \"time\" to \"<class 'numpy.int64'>\"...\n",
      "Converting \"time\" to \"<class 'numpy.int64'>\"...\n",
      "Converting \"time\" to \"<class 'numpy.int64'>\"...\n",
      "Converting \"time\" to \"<class 'numpy.int64'>\"...\n",
      "Converting \"time\" to \"<class 'numpy.int64'>\"...\n",
      "Converting \"time\" to \"<class 'numpy.int64'>\"...\n",
      "Converting \"time\" to \"<class 'numpy.int64'>\"...\n",
      "Converting \"time\" to \"<class 'numpy.int64'>\"...\n",
      "Converting \"time\" to \"<class 'numpy.int64'>\"...\n",
      "Converting \"time\" to \"<class 'numpy.int64'>\"...\n",
      "Converting \"time\" to \"<class 'numpy.int64'>\"...\n",
      "Converting \"time\" to \"<class 'numpy.int64'>\"...\n",
      "Converting \"time\" to \"<class 'numpy.int64'>\"...\n",
      "Converting \"time\" to \"<class 'numpy.int64'>\"...\n",
      "Converting \"time\" to \"<class 'numpy.int64'>\"...\n",
      "Converting \"time\" to \"<class 'numpy.int64'>\"...\n",
      "Converting \"time\" to \"<class 'numpy.int64'>\"...\n",
      "Converting \"time\" to \"<class 'numpy.int64'>\"...\n",
      "Converting \"time\" to \"<class 'numpy.int64'>\"...\n",
      "Converting \"time\" to \"<class 'numpy.int64'>\"...\n",
      "Converting \"time\" to \"<class 'numpy.int64'>\"...\n",
      "Converting \"time\" to \"<class 'numpy.int64'>\"...\n",
      "Converting \"time\" to \"<class 'numpy.int64'>\"...\n",
      "Converting \"time\" to \"<class 'numpy.int64'>\"...\n",
      "Converting \"time\" to \"<class 'numpy.int64'>\"...\n",
      "Converting \"time\" to \"<class 'numpy.int64'>\"...\n",
      "Converting \"time\" to \"<class 'numpy.int64'>\"...\n",
      "Converting \"time\" to \"<class 'numpy.int64'>\"...\n",
      "Converting \"time\" to \"<class 'numpy.int64'>\"...\n",
      "Converting \"time\" to \"<class 'numpy.int64'>\"...\n",
      "Converting \"time\" to \"<class 'numpy.int64'>\"...\n",
      "Converting \"time\" to \"<class 'numpy.int64'>\"...\n",
      "Converting \"time\" to \"<class 'numpy.int64'>\"...\n",
      "Converting \"time\" to \"<class 'numpy.int64'>\"...\n",
      "Converting \"time\" to \"<class 'numpy.int64'>\"...\n",
      "Converting \"time\" to \"<class 'numpy.int64'>\"...\n",
      "Converting \"time\" to \"<class 'numpy.int64'>\"...\n",
      "Converting \"time\" to \"<class 'numpy.int64'>\"...\n",
      "Converting \"time\" to \"<class 'numpy.int64'>\"...\n",
      "Converting \"time\" to \"<class 'numpy.int64'>\"...\n",
      "Converting \"time\" to \"<class 'numpy.int64'>\"...\n",
      "Converting \"time\" to \"<class 'numpy.int64'>\"...\n",
      "Converting \"time\" to \"<class 'numpy.int64'>\"...\n",
      "Converting \"time\" to \"<class 'numpy.int64'>\"...\n",
      "Converting \"time\" to \"<class 'numpy.int64'>\"...\n",
      "Converting \"time\" to \"<class 'numpy.int64'>\"...\n",
      "Converting \"time\" to \"<class 'numpy.int64'>\"...\n",
      "Converting \"time\" to \"<class 'numpy.int64'>\"...\n",
      "Converting \"time\" to \"<class 'numpy.int64'>\"...\n",
      "Converting \"time\" to \"<class 'numpy.int64'>\"...\n",
      "Converting \"time\" to \"<class 'numpy.int64'>\"...\n",
      "Converting \"time\" to \"<class 'numpy.int64'>\"...\n",
      "Converting \"time\" to \"<class 'numpy.int64'>\"...\n",
      "Converting \"time\" to \"<class 'numpy.int64'>\"...\n",
      "Converting \"time\" to \"<class 'numpy.int64'>\"...\n",
      "Converting \"time\" to \"<class 'numpy.int64'>\"...\n",
      "Converting \"time\" to \"<class 'numpy.int64'>\"...\n",
      "Converting \"time\" to \"<class 'numpy.int64'>\"...\n",
      "Converting \"time\" to \"<class 'numpy.int64'>\"...\n",
      "Converting \"time\" to \"<class 'numpy.int64'>\"...\n",
      "Converting \"time\" to \"<class 'numpy.int64'>\"...\n",
      "Converting \"time\" to \"<class 'numpy.int64'>\"...\n",
      "Converting \"time\" to \"<class 'numpy.int64'>\"...\n",
      "Converting \"time\" to \"<class 'numpy.int64'>\"...\n",
      "Converting \"time\" to \"<class 'numpy.int64'>\"...\n",
      "Converting \"time\" to \"<class 'numpy.int64'>\"...\n",
      "Converting \"time\" to \"<class 'numpy.int64'>\"...\n",
      "Converting \"time\" to \"<class 'numpy.int64'>\"...\n",
      "Converting \"time\" to \"<class 'numpy.int64'>\"...\n",
      "Converting \"time\" to \"<class 'numpy.int64'>\"...\n",
      "Converting \"time\" to \"<class 'numpy.int64'>\"...\n",
      "Converting \"time\" to \"<class 'numpy.int64'>\"...\n",
      "Converting \"time\" to \"<class 'numpy.int64'>\"...\n",
      "Converting \"time\" to \"<class 'numpy.int64'>\"...\n",
      "Converting \"time\" to \"<class 'numpy.int64'>\"...\n",
      "Converting \"time\" to \"<class 'numpy.int64'>\"...\n",
      "Converting \"time\" to \"<class 'numpy.int64'>\"...\n",
      "Converting \"time\" to \"<class 'numpy.int64'>\"...\n",
      "Converting \"time\" to \"<class 'numpy.int64'>\"...\n",
      "Converting \"time\" to \"<class 'numpy.int64'>\"...\n",
      "Converting \"time\" to \"<class 'numpy.int64'>\"...\n",
      "Converting \"time\" to \"<class 'numpy.int64'>\"...\n"
     ]
    },
    {
     "name": "stdout",
     "output_type": "stream",
     "text": [
      "Converting \"time\" to \"<class 'numpy.int64'>\"...\n",
      "Converting \"time\" to \"<class 'numpy.int64'>\"...\n",
      "Converting \"time\" to \"<class 'numpy.int64'>\"...\n",
      "Converting \"time\" to \"<class 'numpy.int64'>\"...\n",
      "Converting \"time\" to \"<class 'numpy.int64'>\"...\n",
      "Converting \"time\" to \"<class 'numpy.int64'>\"...\n",
      "Converting \"time\" to \"<class 'numpy.int64'>\"...\n",
      "Converting \"time\" to \"<class 'numpy.int64'>\"...\n",
      "Converting \"time\" to \"<class 'numpy.int64'>\"...\n",
      "Converting \"time\" to \"<class 'numpy.int64'>\"...\n",
      "Converting \"time\" to \"<class 'numpy.int64'>\"...\n",
      "Converting \"time\" to \"<class 'numpy.int64'>\"...\n",
      "Converting \"time\" to \"<class 'numpy.int64'>\"...\n",
      "Converting \"time\" to \"<class 'numpy.int64'>\"...\n",
      "Converting \"time\" to \"<class 'numpy.int64'>\"...\n",
      "Converting \"time\" to \"<class 'numpy.int64'>\"...\n",
      "Converting \"time\" to \"<class 'numpy.int64'>\"...\n",
      "Converting \"time\" to \"<class 'numpy.int64'>\"...\n",
      "Converting \"time\" to \"<class 'numpy.int64'>\"...\n",
      "Converting \"time\" to \"<class 'numpy.int64'>\"...\n",
      "Converting \"time\" to \"<class 'numpy.int64'>\"...\n",
      "Converting \"time\" to \"<class 'numpy.int64'>\"...\n",
      "Converting \"time\" to \"<class 'numpy.int64'>\"...\n",
      "Converting \"time\" to \"<class 'numpy.int64'>\"...\n",
      "Converting \"time\" to \"<class 'numpy.int64'>\"...\n",
      "Converting \"time\" to \"<class 'numpy.int64'>\"...\n",
      "Converting \"time\" to \"<class 'numpy.int64'>\"...\n",
      "Converting \"time\" to \"<class 'numpy.int64'>\"...\n",
      "Converting \"time\" to \"<class 'numpy.int64'>\"...\n",
      "Converting \"time\" to \"<class 'numpy.int64'>\"...\n",
      "Converting \"time\" to \"<class 'numpy.int64'>\"...\n",
      "Converting \"time\" to \"<class 'numpy.int64'>\"...\n",
      "Converting \"time\" to \"<class 'numpy.int64'>\"...\n",
      "Converting \"time\" to \"<class 'numpy.int64'>\"...\n",
      "Converting \"time\" to \"<class 'numpy.int64'>\"...\n",
      "Converting \"time\" to \"<class 'numpy.int64'>\"...\n",
      "Converting \"time\" to \"<class 'numpy.int64'>\"...\n",
      "Converting \"time\" to \"<class 'numpy.int64'>\"...\n",
      "Converting \"time\" to \"<class 'numpy.int64'>\"...\n",
      "Converting \"time\" to \"<class 'numpy.int64'>\"...\n",
      "Converting \"time\" to \"<class 'numpy.int64'>\"...\n",
      "Converting \"time\" to \"<class 'numpy.int64'>\"...\n",
      "Converting \"time\" to \"<class 'numpy.int64'>\"...\n",
      "Converting \"time\" to \"<class 'numpy.int64'>\"...\n",
      "Converting \"time\" to \"<class 'numpy.int64'>\"...\n",
      "Converting \"time\" to \"<class 'numpy.int64'>\"...\n",
      "Converting \"time\" to \"<class 'numpy.int64'>\"...\n",
      "Converting \"time\" to \"<class 'numpy.int64'>\"...\n",
      "Converting \"time\" to \"<class 'numpy.int64'>\"...\n",
      "Converting \"time\" to \"<class 'numpy.int64'>\"...\n",
      "Converting \"time\" to \"<class 'numpy.int64'>\"...\n",
      "Converting \"time\" to \"<class 'numpy.int64'>\"...\n",
      "Converting \"time\" to \"<class 'numpy.int64'>\"...\n",
      "Converting \"time\" to \"<class 'numpy.int64'>\"...\n",
      "Converting \"time\" to \"<class 'numpy.int64'>\"...\n",
      "Converting \"time\" to \"<class 'numpy.int64'>\"...\n",
      "Converting \"time\" to \"<class 'numpy.int64'>\"...\n",
      "Converting \"time\" to \"<class 'numpy.int64'>\"...\n",
      "Converting \"time\" to \"<class 'numpy.int64'>\"...\n",
      "Converting \"time\" to \"<class 'numpy.int64'>\"...\n",
      "Converting \"time\" to \"<class 'numpy.int64'>\"...\n",
      "Converting \"time\" to \"<class 'numpy.int64'>\"...\n",
      "Converting \"time\" to \"<class 'numpy.int64'>\"...\n",
      "Converting \"time\" to \"<class 'numpy.int64'>\"...\n",
      "Converting \"time\" to \"<class 'numpy.int64'>\"...\n",
      "Converting \"time\" to \"<class 'numpy.int64'>\"...\n",
      "Converting \"time\" to \"<class 'numpy.int64'>\"...\n",
      "Converting \"time\" to \"<class 'numpy.int64'>\"...\n",
      "Converting \"time\" to \"<class 'numpy.int64'>\"...\n",
      "Converting \"time\" to \"<class 'numpy.int64'>\"...\n",
      "Converting \"time\" to \"<class 'numpy.int64'>\"...\n",
      "Converting \"time\" to \"<class 'numpy.int64'>\"...\n",
      "Converting \"time\" to \"<class 'numpy.int64'>\"...\n",
      "Converting \"time\" to \"<class 'numpy.int64'>\"...\n",
      "Converting \"time\" to \"<class 'numpy.int64'>\"...\n"
     ]
    }
   ],
   "source": [
    "mont = []\n",
    "shapes = []\n",
    "freqs = []\n",
    "nchannels = []\n",
    "\n",
    "for i in range(len(aux)):\n",
    "    raw = mne.io.read_raw_edf(path + data.iloc[aux[i],0][2:], preload=True,verbose=False)\n",
    "    mont.append(raw.info['ch_names'])\n",
    "    freqs.append(raw.info['sfreq'])\n",
    "    nchannels.append(raw.info['nchan'])\n",
    "    signals = raw.to_data_frame()\n",
    "    shapes.append(signals.shape[0])\n",
    "    "
   ]
  },
  {
   "cell_type": "code",
   "execution_count": 9,
   "metadata": {},
   "outputs": [],
   "source": [
    "raw_data = {\n",
    "    'path':list(data.iloc[aux,0]),\n",
    "    'montage':mont,\n",
    "    'frequence':freqs,\n",
    "    'nchan':nchannels,\n",
    "    'shape':shapes}\n",
    "\n",
    "import json\n",
    "nome = './01_tcp_ar'\n",
    "with open(nome+'.json', 'w') as fp:\n",
    "    json.dump(raw_data, fp)"
   ]
  },
  {
   "cell_type": "markdown",
   "metadata": {},
   "source": [
    "## 02_tcp_le"
   ]
  },
  {
   "cell_type": "code",
   "execution_count": 10,
   "metadata": {},
   "outputs": [
    {
     "data": {
      "text/plain": [
       "'./02_tcp_le/036/00003612/s001_2006_12_14/00003612_s001_t000.edf'"
      ]
     },
     "execution_count": 10,
     "metadata": {},
     "output_type": "execute_result"
    }
   ],
   "source": [
    "path = '/home/pib3/Projetos/tuh_eeg_epilepsy/no_epilepsy/'\n",
    "file = '/home/pib3/Projetos/tuh_eeg_epilepsy/codes/docs/no_epilepsy.csv'\n",
    "data = pd.read_csv(file, header=None)\n",
    "aux = []\n",
    "nome = './02_tcp_le'\n",
    "for i in range(len(data)):\n",
    "    if data.iloc[i,0][:11] == nome:\n",
    "        aux.append(i)\n",
    "        \n",
    "data.iloc[aux[0],0]"
   ]
  },
  {
   "cell_type": "code",
   "execution_count": 11,
   "metadata": {},
   "outputs": [
    {
     "name": "stdout",
     "output_type": "stream",
     "text": [
      "Converting \"time\" to \"<class 'numpy.int64'>\"...\n",
      "Converting \"time\" to \"<class 'numpy.int64'>\"...\n",
      "Converting \"time\" to \"<class 'numpy.int64'>\"...\n",
      "Converting \"time\" to \"<class 'numpy.int64'>\"...\n",
      "Converting \"time\" to \"<class 'numpy.int64'>\"...\n",
      "Converting \"time\" to \"<class 'numpy.int64'>\"...\n",
      "Converting \"time\" to \"<class 'numpy.int64'>\"...\n",
      "Converting \"time\" to \"<class 'numpy.int64'>\"...\n",
      "Converting \"time\" to \"<class 'numpy.int64'>\"...\n",
      "Converting \"time\" to \"<class 'numpy.int64'>\"...\n",
      "Converting \"time\" to \"<class 'numpy.int64'>\"...\n",
      "Converting \"time\" to \"<class 'numpy.int64'>\"...\n",
      "Converting \"time\" to \"<class 'numpy.int64'>\"...\n",
      "Converting \"time\" to \"<class 'numpy.int64'>\"...\n",
      "Converting \"time\" to \"<class 'numpy.int64'>\"...\n",
      "Converting \"time\" to \"<class 'numpy.int64'>\"...\n",
      "Converting \"time\" to \"<class 'numpy.int64'>\"...\n",
      "Converting \"time\" to \"<class 'numpy.int64'>\"...\n",
      "Converting \"time\" to \"<class 'numpy.int64'>\"...\n",
      "Converting \"time\" to \"<class 'numpy.int64'>\"...\n",
      "Converting \"time\" to \"<class 'numpy.int64'>\"...\n",
      "Converting \"time\" to \"<class 'numpy.int64'>\"...\n",
      "Converting \"time\" to \"<class 'numpy.int64'>\"...\n",
      "Converting \"time\" to \"<class 'numpy.int64'>\"...\n",
      "Converting \"time\" to \"<class 'numpy.int64'>\"...\n",
      "Converting \"time\" to \"<class 'numpy.int64'>\"...\n",
      "Converting \"time\" to \"<class 'numpy.int64'>\"...\n",
      "Converting \"time\" to \"<class 'numpy.int64'>\"...\n",
      "Converting \"time\" to \"<class 'numpy.int64'>\"...\n",
      "Converting \"time\" to \"<class 'numpy.int64'>\"...\n",
      "Converting \"time\" to \"<class 'numpy.int64'>\"...\n",
      "Converting \"time\" to \"<class 'numpy.int64'>\"...\n",
      "Converting \"time\" to \"<class 'numpy.int64'>\"...\n",
      "Converting \"time\" to \"<class 'numpy.int64'>\"...\n",
      "Converting \"time\" to \"<class 'numpy.int64'>\"...\n",
      "Converting \"time\" to \"<class 'numpy.int64'>\"...\n",
      "Converting \"time\" to \"<class 'numpy.int64'>\"...\n"
     ]
    }
   ],
   "source": [
    "mont = []\n",
    "shapes = []\n",
    "freqs = []\n",
    "nchannels = []\n",
    "\n",
    "for i in range(len(aux)):\n",
    "    raw = mne.io.read_raw_edf(path + data.iloc[aux[i],0][2:], preload=True,verbose=False)\n",
    "    mont.append(raw.info['ch_names'])\n",
    "    freqs.append(raw.info['sfreq'])\n",
    "    nchannels.append(raw.info['nchan'])\n",
    "    signals = raw.to_data_frame()\n",
    "    shapes.append(signals.shape[0])"
   ]
  },
  {
   "cell_type": "code",
   "execution_count": 12,
   "metadata": {},
   "outputs": [],
   "source": [
    "raw_data = {\n",
    "    'path':list(data.iloc[aux,0]),\n",
    "    'montage':mont,\n",
    "    'frequence':freqs,\n",
    "    'nchan':nchannels,\n",
    "    'shape':shapes}\n",
    "\n",
    "with open(nome+'.json', 'w') as fp:\n",
    "    json.dump(raw_data, fp)"
   ]
  },
  {
   "cell_type": "markdown",
   "metadata": {},
   "source": [
    "## 03_tcp_ar_a"
   ]
  },
  {
   "cell_type": "code",
   "execution_count": 13,
   "metadata": {},
   "outputs": [
    {
     "data": {
      "text/plain": [
       "37    ./03_tcp_ar_a/076/00007671/s002_2011_02_03/000...\n",
       "38    ./03_tcp_ar_a/076/00007671/s002_2011_02_03/000...\n",
       "39    ./03_tcp_ar_a/076/00007671/s002_2011_02_03/000...\n",
       "40    ./03_tcp_ar_a/076/00007671/s002_2011_02_03/000...\n",
       "41    ./03_tcp_ar_a/076/00007671/s002_2011_02_03/000...\n",
       "Name: 0, dtype: object"
      ]
     },
     "execution_count": 13,
     "metadata": {},
     "output_type": "execute_result"
    }
   ],
   "source": [
    "path = '/home/pib3/Projetos/tuh_eeg_epilepsy/no_epilepsy/'\n",
    "file = '/home/pib3/Projetos/tuh_eeg_epilepsy/codes/docs/no_epilepsy.csv'\n",
    "data = pd.read_csv(file, header=None)\n",
    "aux = []\n",
    "nome = './03_'\n",
    "for i in range(len(data)):\n",
    "    if nome in data.iloc[i,0][:11]:\n",
    "        aux.append(i)\n",
    "        \n",
    "data.iloc[aux,0]"
   ]
  },
  {
   "cell_type": "code",
   "execution_count": 14,
   "metadata": {},
   "outputs": [
    {
     "name": "stdout",
     "output_type": "stream",
     "text": [
      "Converting \"time\" to \"<class 'numpy.int64'>\"...\n",
      "Converting \"time\" to \"<class 'numpy.int64'>\"...\n",
      "Converting \"time\" to \"<class 'numpy.int64'>\"...\n",
      "Converting \"time\" to \"<class 'numpy.int64'>\"...\n",
      "Converting \"time\" to \"<class 'numpy.int64'>\"...\n"
     ]
    }
   ],
   "source": [
    "mont = []\n",
    "shapes = []\n",
    "freqs = []\n",
    "nchannels = []\n",
    "\n",
    "for i in range(len(aux)):\n",
    "    raw = mne.io.read_raw_edf(path + data.iloc[aux[i],0][2:], preload=True,verbose=False)\n",
    "    mont.append(raw.info['ch_names'])\n",
    "    freqs.append(raw.info['sfreq'])\n",
    "    nchannels.append(raw.info['nchan'])\n",
    "    signals = raw.to_data_frame()\n",
    "    shapes.append(signals.shape[0])"
   ]
  },
  {
   "cell_type": "code",
   "execution_count": 15,
   "metadata": {},
   "outputs": [],
   "source": [
    "raw_data = {\n",
    "    'path':list(data.iloc[aux,0]),\n",
    "    'montage':mont,\n",
    "    'frequence':freqs,\n",
    "    'nchan':nchannels,\n",
    "    'shape':shapes}\n",
    "\n",
    "with open('03_tcp_ar_a.json', 'w') as fp:\n",
    "    json.dump(raw_data, fp)"
   ]
  }
 ],
 "metadata": {
  "kernelspec": {
   "display_name": "Python 3",
   "language": "python",
   "name": "python3"
  },
  "language_info": {
   "codemirror_mode": {
    "name": "ipython",
    "version": 3
   },
   "file_extension": ".py",
   "mimetype": "text/x-python",
   "name": "python",
   "nbconvert_exporter": "python",
   "pygments_lexer": "ipython3",
   "version": "3.7.3"
  },
  "toc": {
   "base_numbering": 1,
   "nav_menu": {},
   "number_sections": true,
   "sideBar": true,
   "skip_h1_title": false,
   "title_cell": "Table of Contents",
   "title_sidebar": "Contents",
   "toc_cell": false,
   "toc_position": {},
   "toc_section_display": true,
   "toc_window_display": false
  },
  "varInspector": {
   "cols": {
    "lenName": 16,
    "lenType": 16,
    "lenVar": 40
   },
   "kernels_config": {
    "python": {
     "delete_cmd_postfix": "",
     "delete_cmd_prefix": "del ",
     "library": "var_list.py",
     "varRefreshCmd": "print(var_dic_list())"
    },
    "r": {
     "delete_cmd_postfix": ") ",
     "delete_cmd_prefix": "rm(",
     "library": "var_list.r",
     "varRefreshCmd": "cat(var_dic_list()) "
    }
   },
   "types_to_exclude": [
    "module",
    "function",
    "builtin_function_or_method",
    "instance",
    "_Feature"
   ],
   "window_display": false
  }
 },
 "nbformat": 4,
 "nbformat_minor": 2
}
