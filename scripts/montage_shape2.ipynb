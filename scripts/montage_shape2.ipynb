{
 "cells": [
  {
   "cell_type": "code",
   "execution_count": 1,
   "metadata": {},
   "outputs": [],
   "source": [
    "import numpy as np \n",
    "import pandas as pd \n",
    "import json\n",
    "\n",
    "path1 = '/home/pib3/Projetos/tuh_eeg_epilepsy/codes/docs/epilepsy/'\n",
    "path2 = '/home/pib3/Projetos/tuh_eeg_epilepsy/codes/docs/no_epilepsy/'\n",
    "\n",
    "file1w = '01_tcp_ar.json'\n",
    "file2w = '02_tcp_le.json'\n",
    "file3w = '03_tcp_ar_a.json'\n",
    "\n",
    "file1n = '01_tcp_ar.json'\n",
    "file2n = '02_tcp_le.json'\n",
    "file3n = '03_tcp_ar_a.json'\n",
    "\n",
    "with open(path1+file1w) as json_file:\n",
    "    data1w = json.load(json_file)\n",
    "    \n",
    "with open(path1+file2w) as json_file:\n",
    "    data2w = json.load(json_file)\n",
    "    \n",
    "with open(path1+file3w) as json_file:\n",
    "    data3w = json.load(json_file)\n",
    "    \n",
    "with open(path2+file1n) as json_file:\n",
    "    data1n = json.load(json_file)\n",
    "    \n",
    "with open(path2+file2n) as json_file:\n",
    "    data2n = json.load(json_file)\n",
    "    \n",
    "with open(path2+file3n) as json_file:\n",
    "    data3n = json.load(json_file)"
   ]
  },
  {
   "cell_type": "code",
   "execution_count": 2,
   "metadata": {},
   "outputs": [
    {
     "name": "stdout",
     "output_type": "stream",
     "text": [
      "[  2  64 153  20   2   2   1   1   1]\n",
      "[ 1 36]\n",
      "[5]\n"
     ]
    },
    {
     "data": {
      "text/plain": [
       "['EEG FP1-REF',\n",
       " 'EEG FP2-REF',\n",
       " 'EEG F3-REF',\n",
       " 'EEG F4-REF',\n",
       " 'EEG C3-REF',\n",
       " 'EEG C4-REF',\n",
       " 'EEG P3-REF',\n",
       " 'EEG P4-REF',\n",
       " 'EEG O1-REF',\n",
       " 'EEG O2-REF',\n",
       " 'EEG F7-REF',\n",
       " 'EEG F8-REF',\n",
       " 'EEG T3-REF',\n",
       " 'EEG T4-REF',\n",
       " 'EEG T5-REF',\n",
       " 'EEG T6-REF',\n",
       " 'EEG A1-REF',\n",
       " 'EEG A2-REF',\n",
       " 'EEG FZ-REF',\n",
       " 'EEG CZ-REF',\n",
       " 'EEG PZ-REF',\n",
       " 'EEG ROC-REF',\n",
       " 'EEG LOC-REF',\n",
       " 'EEG EKG1-REF',\n",
       " 'EMG-REF',\n",
       " 'EEG 26-REF',\n",
       " 'EEG 27-REF',\n",
       " 'EEG 28-REF',\n",
       " 'EEG 29-REF',\n",
       " 'EEG 30-REF',\n",
       " 'EEG T1-REF',\n",
       " 'EEG T2-REF',\n",
       " 'PHOTIC-REF',\n",
       " 'IBI',\n",
       " 'BURSTS',\n",
       " 'SUPPR']"
      ]
     },
     "execution_count": 2,
     "metadata": {},
     "output_type": "execute_result"
    }
   ],
   "source": [
    "aux1w = pd.DataFrame(data1w)\n",
    "aux2w = pd.DataFrame(data2w)\n",
    "aux3w = pd.DataFrame(data3w)\n",
    "\n",
    "aux1n = pd.DataFrame(data1n)\n",
    "aux2n = pd.DataFrame(data2n)\n",
    "aux3n = pd.DataFrame(data3n)\n",
    "\n",
    "print(np.unique(aux1n['montage'],return_counts=True)[1])\n",
    "print(np.unique(aux2n['montage'],return_counts=True)[1])\n",
    "print(np.unique(aux3n['montage'],return_counts=True)[1])\n",
    "np.unique(aux1n['montage'])[2]"
   ]
  },
  {
   "cell_type": "code",
   "execution_count": 3,
   "metadata": {},
   "outputs": [
    {
     "name": "stdout",
     "output_type": "stream",
     "text": [
      "(997, 5)\n",
      "(99, 5)\n",
      "(205, 5)\n"
     ]
    },
    {
     "data": {
      "text/plain": [
       "(1589, 5)"
      ]
     },
     "execution_count": 3,
     "metadata": {},
     "output_type": "execute_result"
    }
   ],
   "source": [
    "print(aux1w.shape)\n",
    "print(aux2w.shape)\n",
    "print(aux3w.shape)\n",
    "master = pd.concat([aux1w,aux2w,aux3w,aux1n,aux2n,aux3n])\n",
    "master.shape"
   ]
  },
  {
   "cell_type": "code",
   "execution_count": 4,
   "metadata": {},
   "outputs": [],
   "source": [
    "# Epilepsy\n",
    "y1 = np.zeros(aux1w.shape[0]+aux2w.shape[0]+aux3w.shape[0]).astype(int) # Epilepsy\n",
    "#no epilepsy\n",
    "y2 = np.ones(aux1n.shape[0]+aux2n.shape[0]+aux3n.shape[0]).astype(int)\n",
    "\n",
    "\n",
    "y = np.hstack((y1,y2))\n",
    "master['epilepsy'] = y"
   ]
  },
  {
   "cell_type": "code",
   "execution_count": 5,
   "metadata": {},
   "outputs": [
    {
     "data": {
      "text/html": [
       "<div>\n",
       "<style scoped>\n",
       "    .dataframe tbody tr th:only-of-type {\n",
       "        vertical-align: middle;\n",
       "    }\n",
       "\n",
       "    .dataframe tbody tr th {\n",
       "        vertical-align: top;\n",
       "    }\n",
       "\n",
       "    .dataframe thead th {\n",
       "        text-align: right;\n",
       "    }\n",
       "</style>\n",
       "<table border=\"1\" class=\"dataframe\">\n",
       "  <thead>\n",
       "    <tr style=\"text-align: right;\">\n",
       "      <th></th>\n",
       "      <th>path</th>\n",
       "      <th>montage</th>\n",
       "      <th>frequence</th>\n",
       "      <th>nchan</th>\n",
       "      <th>shape</th>\n",
       "      <th>epilepsy</th>\n",
       "    </tr>\n",
       "  </thead>\n",
       "  <tbody>\n",
       "    <tr>\n",
       "      <th>0</th>\n",
       "      <td>./01_tcp_ar/087/00008794/s002_2012_05_22/00008...</td>\n",
       "      <td>[EEG FP1-REF, EEG FP2-REF, EEG F3-REF, EEG F4-...</td>\n",
       "      <td>250.0</td>\n",
       "      <td>30</td>\n",
       "      <td>311500</td>\n",
       "      <td>0</td>\n",
       "    </tr>\n",
       "    <tr>\n",
       "      <th>1</th>\n",
       "      <td>./01_tcp_ar/087/00008794/s001_2012_05_17/00008...</td>\n",
       "      <td>[EEG FP1-REF, EEG FP2-REF, EEG F3-REF, EEG F4-...</td>\n",
       "      <td>250.0</td>\n",
       "      <td>30</td>\n",
       "      <td>303500</td>\n",
       "      <td>0</td>\n",
       "    </tr>\n",
       "    <tr>\n",
       "      <th>2</th>\n",
       "      <td>./01_tcp_ar/087/00008754/s001_2012_04_06/00008...</td>\n",
       "      <td>[EEG FP1-REF, EEG FP2-REF, EEG F3-REF, EEG F4-...</td>\n",
       "      <td>250.0</td>\n",
       "      <td>30</td>\n",
       "      <td>450750</td>\n",
       "      <td>0</td>\n",
       "    </tr>\n",
       "  </tbody>\n",
       "</table>\n",
       "</div>"
      ],
      "text/plain": [
       "                                                path  \\\n",
       "0  ./01_tcp_ar/087/00008794/s002_2012_05_22/00008...   \n",
       "1  ./01_tcp_ar/087/00008794/s001_2012_05_17/00008...   \n",
       "2  ./01_tcp_ar/087/00008754/s001_2012_04_06/00008...   \n",
       "\n",
       "                                             montage  frequence  nchan  \\\n",
       "0  [EEG FP1-REF, EEG FP2-REF, EEG F3-REF, EEG F4-...      250.0     30   \n",
       "1  [EEG FP1-REF, EEG FP2-REF, EEG F3-REF, EEG F4-...      250.0     30   \n",
       "2  [EEG FP1-REF, EEG FP2-REF, EEG F3-REF, EEG F4-...      250.0     30   \n",
       "\n",
       "    shape  epilepsy  \n",
       "0  311500         0  \n",
       "1  303500         0  \n",
       "2  450750         0  "
      ]
     },
     "execution_count": 5,
     "metadata": {},
     "output_type": "execute_result"
    }
   ],
   "source": [
    "master.head(3)"
   ]
  },
  {
   "cell_type": "code",
   "execution_count": 6,
   "metadata": {},
   "outputs": [
    {
     "data": {
      "text/plain": [
       "(array([250., 256., 400., 512.]), array([628, 772,  62, 127]))"
      ]
     },
     "execution_count": 6,
     "metadata": {},
     "output_type": "execute_result"
    }
   ],
   "source": [
    "np.unique(master['frequence'],return_counts=True)"
   ]
  },
  {
   "cell_type": "code",
   "execution_count": 7,
   "metadata": {},
   "outputs": [],
   "source": [
    "aux1 = master[master['frequence']==250.0]\n",
    "aux2 = master[master['frequence']==256.0]\n"
   ]
  },
  {
   "cell_type": "code",
   "execution_count": 8,
   "metadata": {},
   "outputs": [
    {
     "name": "stdout",
     "output_type": "stream",
     "text": [
      "(352, 6)\n",
      "(276, 6)\n"
     ]
    }
   ],
   "source": [
    "print(aux1[aux1['epilepsy']==0].shape)\n",
    "print(aux1[aux1['epilepsy']==1].shape)"
   ]
  },
  {
   "cell_type": "code",
   "execution_count": 9,
   "metadata": {},
   "outputs": [
    {
     "name": "stdout",
     "output_type": "stream",
     "text": [
      "(765, 6)\n",
      "(7, 6)\n"
     ]
    }
   ],
   "source": [
    "print(aux2[aux2['epilepsy']==0].shape)\n",
    "print(aux2[aux2['epilepsy']==1].shape)"
   ]
  },
  {
   "cell_type": "markdown",
   "metadata": {},
   "source": [
    "#### Vamos usar eeg's com Fs = 250"
   ]
  },
  {
   "cell_type": "code",
   "execution_count": 10,
   "metadata": {},
   "outputs": [
    {
     "data": {
      "text/plain": [
       "(772, 6)"
      ]
     },
     "execution_count": 10,
     "metadata": {},
     "output_type": "execute_result"
    }
   ],
   "source": [
    "master_aux = master[master['frequence']==256.0]\n",
    "master_aux.shape"
   ]
  },
  {
   "cell_type": "code",
   "execution_count": 11,
   "metadata": {},
   "outputs": [
    {
     "data": {
      "text/plain": [
       "array([137, 106,  60,  20,   3, 148, 263,   3,   1,  31])"
      ]
     },
     "execution_count": 11,
     "metadata": {},
     "output_type": "execute_result"
    }
   ],
   "source": [
    "monts = np.unique(master_aux['montage'],return_counts=True)\n",
    "monts[1]"
   ]
  },
  {
   "cell_type": "markdown",
   "metadata": {},
   "source": [
    "### Mais análise de montagens"
   ]
  },
  {
   "cell_type": "code",
   "execution_count": 12,
   "metadata": {},
   "outputs": [
    {
     "data": {
      "text/plain": [
       "['EEG FP1-REF',\n",
       " 'EEG FP2-REF',\n",
       " 'EEG F3-REF',\n",
       " 'EEG F4-REF',\n",
       " 'EEG C3-REF',\n",
       " 'EEG C4-REF',\n",
       " 'EEG P3-REF',\n",
       " 'EEG P4-REF',\n",
       " 'EEG O1-REF',\n",
       " 'EEG O2-REF',\n",
       " 'EEG F7-REF',\n",
       " 'EEG F8-REF',\n",
       " 'EEG T3-REF',\n",
       " 'EEG T4-REF',\n",
       " 'EEG T5-REF',\n",
       " 'EEG T6-REF',\n",
       " 'EEG T1-REF',\n",
       " 'EEG T2-REF',\n",
       " 'EEG FZ-REF',\n",
       " 'EEG CZ-REF',\n",
       " 'EEG PZ-REF',\n",
       " 'EEG EKG1-REF',\n",
       " 'EMG-REF',\n",
       " 'EEG A1-REF',\n",
       " 'EEG A2-REF',\n",
       " 'EEG 31-REF',\n",
       " 'EEG 32-REF',\n",
       " 'IBI',\n",
       " 'BURSTS',\n",
       " 'SUPPR']"
      ]
     },
     "execution_count": 12,
     "metadata": {},
     "output_type": "execute_result"
    }
   ],
   "source": [
    "#[4,11,12] - 250\n",
    "#[5,6,7,8,9] - 256\n",
    "monts[0][9]"
   ]
  },
  {
   "cell_type": "code",
   "execution_count": 114,
   "metadata": {},
   "outputs": [],
   "source": [
    "for i in range(len(monts[0][-2])):\n",
    "    if 'EEG' in monts[0][-2][i]:\n",
    "        monts[0][-2][i] = monts[0][-2][i].replace('EEG','')\n",
    "    if '-REF' in monts[0][-2][i]:\n",
    "        monts[0][-2][i] = monts[0][-2][i].replace('-REF','')\n",
    "\n",
    "for i in range(len(monts[0][-3])):\n",
    "    if 'EEG' in monts[0][-3][i]:\n",
    "        monts[0][-3][i] = monts[0][-3][i].replace('EEG','')\n",
    "    if '-REF' in monts[0][-3][i]:\n",
    "        monts[0][-3][i] = monts[0][-3][i].replace('-REF','')    \n",
    "        \n",
    "#print(monts[0][-2])\n",
    "#print(monts[0][-3])"
   ]
  },
  {
   "cell_type": "code",
   "execution_count": 13,
   "metadata": {},
   "outputs": [
    {
     "data": {
      "text/plain": [
       "772"
      ]
     },
     "execution_count": 13,
     "metadata": {},
     "output_type": "execute_result"
    }
   ],
   "source": [
    "len(list(master_aux['montage']))# == monts[0][-2]"
   ]
  },
  {
   "cell_type": "code",
   "execution_count": 15,
   "metadata": {},
   "outputs": [],
   "source": [
    "index = []"
   ]
  },
  {
   "cell_type": "code",
   "execution_count": 16,
   "metadata": {},
   "outputs": [
    {
     "data": {
      "text/plain": [
       "296"
      ]
     },
     "execution_count": 16,
     "metadata": {},
     "output_type": "execute_result"
    }
   ],
   "source": [
    "l = [5,6,7,8,9]\n",
    "for i in range(len(list(master['montage']))):\n",
    "    if list(master['montage'])[i] == np.unique(aux1n['montage'])[2]:#monts[0][9]:\n",
    "        index.append(i)\n",
    "\n",
    "len(index)"
   ]
  },
  {
   "cell_type": "code",
   "execution_count": 17,
   "metadata": {},
   "outputs": [
    {
     "data": {
      "text/plain": [
       "(296, 6)"
      ]
     },
     "execution_count": 17,
     "metadata": {},
     "output_type": "execute_result"
    }
   ],
   "source": [
    "master_aux2 = master.iloc[index,:]\n",
    "master_aux2.shape"
   ]
  },
  {
   "cell_type": "code",
   "execution_count": 18,
   "metadata": {},
   "outputs": [
    {
     "data": {
      "text/plain": [
       "array([list(['EEG FP1-REF', 'EEG FP2-REF', 'EEG F3-REF', 'EEG F4-REF', 'EEG C3-REF', 'EEG C4-REF', 'EEG P3-REF', 'EEG P4-REF', 'EEG O1-REF', 'EEG O2-REF', 'EEG F7-REF', 'EEG F8-REF', 'EEG T3-REF', 'EEG T4-REF', 'EEG T5-REF', 'EEG T6-REF', 'EEG A1-REF', 'EEG A2-REF', 'EEG FZ-REF', 'EEG CZ-REF', 'EEG PZ-REF', 'EEG ROC-REF', 'EEG LOC-REF', 'EEG EKG1-REF', 'EMG-REF', 'EEG 26-REF', 'EEG 27-REF', 'EEG 28-REF', 'EEG 29-REF', 'EEG 30-REF', 'EEG T1-REF', 'EEG T2-REF', 'PHOTIC-REF', 'IBI', 'BURSTS', 'SUPPR'])],\n",
       "      dtype=object)"
      ]
     },
     "execution_count": 18,
     "metadata": {},
     "output_type": "execute_result"
    }
   ],
   "source": [
    "\n",
    "np.unique(master_aux2['montage'])\n",
    "# freq512 = master[master['frequence']==512.0]\n",
    "# freq512[freq512['epilepsy']==1].shape"
   ]
  },
  {
   "cell_type": "code",
   "execution_count": 19,
   "metadata": {},
   "outputs": [
    {
     "data": {
      "text/plain": [
       "array([250.])"
      ]
     },
     "execution_count": 19,
     "metadata": {},
     "output_type": "execute_result"
    }
   ],
   "source": [
    "np.unique(master_aux2['frequence'])"
   ]
  },
  {
   "cell_type": "code",
   "execution_count": 20,
   "metadata": {},
   "outputs": [
    {
     "data": {
      "text/plain": [
       "array([0, 1])"
      ]
     },
     "execution_count": 20,
     "metadata": {},
     "output_type": "execute_result"
    }
   ],
   "source": [
    "np.unique(master_aux2['epilepsy'])"
   ]
  },
  {
   "cell_type": "code",
   "execution_count": 21,
   "metadata": {},
   "outputs": [
    {
     "name": "stdout",
     "output_type": "stream",
     "text": [
      "(143, 6)\n",
      "(153, 6)\n"
     ]
    }
   ],
   "source": [
    "print(master_aux2[master_aux2['epilepsy']==0].shape)\n",
    "print(master_aux2[master_aux2['epilepsy']==1].shape)"
   ]
  },
  {
   "cell_type": "code",
   "execution_count": 22,
   "metadata": {},
   "outputs": [
    {
     "data": {
      "text/plain": [
       "Index(['path', 'montage', 'frequence', 'nchan', 'shape', 'epilepsy'], dtype='object')"
      ]
     },
     "execution_count": 22,
     "metadata": {},
     "output_type": "execute_result"
    }
   ],
   "source": [
    "master_aux2.columns"
   ]
  },
  {
   "cell_type": "code",
   "execution_count": 23,
   "metadata": {},
   "outputs": [
    {
     "data": {
      "text/plain": [
       "array([   1250,    1500,    2000,    2250,    2500,    2750,    3000,\n",
       "          3250,    3500,    3750,    4000,    4250,    4500,    4750,\n",
       "          5000,    5250,    5500,    5750,    6000,    6250,    6500,\n",
       "          7500,    8500,    8750,    9000,    9250,    9750,   10250,\n",
       "         10500,   11000,   11750,   12000,   12250,   12750,   13500,\n",
       "         14250,   14500,   14750,   15250,   16250,   16500,   17750,\n",
       "         19750,   20000,   20250,   23250,   23500,   24750,   26500,\n",
       "         28250,   29750,   32250,   34750,   35500,   36500,   36750,\n",
       "         37000,   37500,   39250,   39500,   40000,   40250,   41250,\n",
       "         42500,   43500,   50750,   55000,   55750,   57000,   59000,\n",
       "         59250,   60250,   60750,   61000,   63250,   72000,   74750,\n",
       "         75000,   76250,   96000,  103250,  113000,  115000,  117500,\n",
       "        123500,  126250,  133250,  136500,  144000,  148500,  150250,\n",
       "        150500,  163750,  166750,  179500,  183000,  185000,  213250,\n",
       "        240500,  242750,  271250,  287750,  290500,  292500,  294750,\n",
       "        295000,  295750,  296250,  296500,  296750,  297000,  297500,\n",
       "        298000,  298250,  299000,  299250,  300250,  300500,  300750,\n",
       "        301000,  301250,  301500,  301750,  302000,  302250,  302750,\n",
       "        303000,  303250,  303750,  304000,  304250,  304750,  305000,\n",
       "        305250,  305750,  306500,  306750,  307250,  307750,  308000,\n",
       "        308250,  309500,  310000,  310250,  310750,  311750,  313250,\n",
       "        314750,  315000,  315250,  317500,  319250,  319750,  320250,\n",
       "        321750,  322500,  323000,  324250,  325000,  326750,  327500,\n",
       "        330750,  331000,  331250,  331500,  331750,  332000,  333250,\n",
       "        334250,  335500,  336250,  337250,  337750,  340250,  341500,\n",
       "        341750,  342500,  344000,  344250,  345500,  346500,  346750,\n",
       "        347500,  348250,  348750,  357750,  360250,  360500,  360750,\n",
       "        361250,  362500,  362750,  363750,  364250,  365750,  367000,\n",
       "        368000,  375250,  375500,  375750,  377000,  381500,  381750,\n",
       "        382250,  383000,  390500,  392000,  393500,  396750,  400250,\n",
       "        417750,  476500,  488500,  496750,  510750,  532500,  540000,\n",
       "        549500,  564000,  614000,  923250,  993500, 1090250, 1116000,\n",
       "       1190750, 1509750, 1596000, 1792000])"
      ]
     },
     "execution_count": 23,
     "metadata": {},
     "output_type": "execute_result"
    }
   ],
   "source": [
    "np.unique(master_aux2['shape'])"
   ]
  },
  {
   "cell_type": "code",
   "execution_count": 25,
   "metadata": {},
   "outputs": [
    {
     "data": {
      "text/plain": [
       "path         ./01_tcp_ar/103/00010387/s001_2013_06_04/00010...\n",
       "montage      [EEG FP1-REF, EEG FP2-REF, EEG F3-REF, EEG F4-...\n",
       "frequence                                                  250\n",
       "nchan                                                       36\n",
       "shape                                                   342500\n",
       "epilepsy                                                     0\n",
       "Name: 20, dtype: object"
      ]
     },
     "execution_count": 25,
     "metadata": {},
     "output_type": "execute_result"
    }
   ],
   "source": [
    "master_aux2.iloc[0]"
   ]
  },
  {
   "cell_type": "code",
   "execution_count": 36,
   "metadata": {},
   "outputs": [],
   "source": [
    "master_aux2.to_csv('data1.csv')"
   ]
  },
  {
   "cell_type": "code",
   "execution_count": null,
   "metadata": {},
   "outputs": [],
   "source": []
  },
  {
   "cell_type": "code",
   "execution_count": null,
   "metadata": {},
   "outputs": [],
   "source": []
  }
 ],
 "metadata": {
  "kernelspec": {
   "display_name": "Python 3",
   "language": "python",
   "name": "python3"
  },
  "language_info": {
   "codemirror_mode": {
    "name": "ipython",
    "version": 3
   },
   "file_extension": ".py",
   "mimetype": "text/x-python",
   "name": "python",
   "nbconvert_exporter": "python",
   "pygments_lexer": "ipython3",
   "version": "3.7.3"
  },
  "toc": {
   "base_numbering": 1,
   "nav_menu": {},
   "number_sections": true,
   "sideBar": true,
   "skip_h1_title": false,
   "title_cell": "Table of Contents",
   "title_sidebar": "Contents",
   "toc_cell": false,
   "toc_position": {},
   "toc_section_display": true,
   "toc_window_display": false
  },
  "varInspector": {
   "cols": {
    "lenName": 16,
    "lenType": 16,
    "lenVar": 40
   },
   "kernels_config": {
    "python": {
     "delete_cmd_postfix": "",
     "delete_cmd_prefix": "del ",
     "library": "var_list.py",
     "varRefreshCmd": "print(var_dic_list())"
    },
    "r": {
     "delete_cmd_postfix": ") ",
     "delete_cmd_prefix": "rm(",
     "library": "var_list.r",
     "varRefreshCmd": "cat(var_dic_list()) "
    }
   },
   "types_to_exclude": [
    "module",
    "function",
    "builtin_function_or_method",
    "instance",
    "_Feature"
   ],
   "window_display": false
  }
 },
 "nbformat": 4,
 "nbformat_minor": 2
}
